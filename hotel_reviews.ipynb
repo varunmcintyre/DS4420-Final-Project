{
 "cells": [
  {
   "cell_type": "markdown",
   "metadata": {},
   "source": [
    "# MLP with PyTorch"
   ]
  },
  {
   "cell_type": "markdown",
   "metadata": {},
   "source": [
    "## Prep the data"
   ]
  },
  {
   "cell_type": "code",
   "execution_count": 1,
   "metadata": {},
   "outputs": [
    {
     "name": "stderr",
     "output_type": "stream",
     "text": [
      "/Users/aidenshymanski/opt/anaconda3/lib/python3.9/site-packages/pandas/core/computation/expressions.py:21: UserWarning: Pandas requires version '2.8.4' or newer of 'numexpr' (version '2.7.3' currently installed).\n",
      "  from pandas.core.computation.check import NUMEXPR_INSTALLED\n",
      "/Users/aidenshymanski/opt/anaconda3/lib/python3.9/site-packages/pandas/core/arrays/masked.py:60: UserWarning: Pandas requires version '1.3.6' or newer of 'bottleneck' (version '1.3.2' currently installed).\n",
      "  from pandas.core import (\n"
     ]
    }
   ],
   "source": [
    "import pandas as pd\n",
    "import numpy as np\n",
    "import torch\n",
    "import torch.nn as nn\n",
    "import torch.optim as optim\n",
    "from sklearn.preprocessing import MinMaxScaler\n",
    "from sklearn.model_selection import train_test_split\n",
    "from sklearn.metrics import accuracy_score, precision_score, recall_score, f1_score\n",
    "import matplotlib.pyplot as plt\n",
    "import warnings\n",
    "warnings.filterwarnings('ignore')\n",
    "\n",
    "# load data\n",
    "data = pd.read_csv('Datafiniti_Hotel_Reviews.csv')\n",
    "\n",
    "# drop unnecessary columns\n",
    "data = data.drop(columns=['address', 'country', 'name', 'postalCode', 'dateAdded',\n",
    "             'id', 'reviews.text', 'reviews.title', 'reviews.userCity', 'reviews.username',\n",
    "             'reviews.userProvince'])\n",
    "\n",
    "# filter city and category to top 10 and other for rest\n",
    "top_cit = data['city'].value_counts().nlargest(10).index\n",
    "data['city'] = data['city'].apply(lambda x: x if x in top_cit else 'Other')\n",
    "\n",
    "top_cat = data['categories'].value_counts().nlargest(10).index\n",
    "data['categories'] = data['categories'].apply(lambda x: x if x in top_cat else 'Other')\n",
    "\n",
    "# get date features\n",
    "data['reviews.date'] = pd.to_datetime(data['reviews.date'], errors='coerce')\n",
    "data['review.year'] = data['reviews.date'].dt.year\n",
    "data['review.month'] = data['reviews.date'].dt.month\n",
    "data = data.drop(columns=['reviews.date'])\n",
    "\n",
    "# One-hot encoding the categorical features\n",
    "data = pd.get_dummies(data, drop_first=True, dtype=int)\n",
    "\n",
    "# drop any rows with NaNs\n",
    "data = data.dropna()\n",
    "\n",
    "X = data.drop(columns=['reviews.rating']).values\n",
    "\n",
    "# make reviews rating into 1 if the star rating is 4 or 5 \n",
    "# make it 0 if it is below 4, good and bad ratings\n",
    "y = (data['reviews.rating'] >= 4).astype(int).values\n",
    "\n",
    "# min-max scaling\n",
    "scaler = MinMaxScaler()\n",
    "X_scale = scaler.fit_transform(X)\n",
    "\n",
    "# add intercept/bias column to X\n",
    "Phi = np.hstack((np.ones((X_scale.shape[0], 1)), X_scale))\n",
    "\n",
    "# Separating data into training and test sets\n",
    "[X_train, X_test, y_train, y_test] = train_test_split(Phi, y, test_size = .3)"
   ]
  },
  {
   "cell_type": "markdown",
   "metadata": {},
   "source": [
    "## Train Model and Record Loss"
   ]
  },
  {
   "cell_type": "code",
   "execution_count": 2,
   "metadata": {},
   "outputs": [
    {
     "data": {
      "image/png": "[encoded data removed]",
      "text/plain": [
       "<Figure size 432x288 with 1 Axes>"
      ]
     },
     "metadata": {
      "needs_background": "light"
     },
     "output_type": "display_data"
    }
   ],
   "source": [
    "class MLP(nn.Module):\n",
    "    def __init__(self, input_dim):\n",
    "        super().__init__()\n",
    "        self.l1 = nn.Linear(input_dim, 32)\n",
    "        self.relu = nn.ReLU()\n",
    "        self.l2 = nn.Linear(32, 16)\n",
    "        self.l3 = nn.Linear(16, 1)\n",
    "        self.sigmoid = nn.Sigmoid()\n",
    "\n",
    "    def forward(self, x):\n",
    "        x = self.relu(self.l1(x))\n",
    "        x = self.relu(self.l2(x))\n",
    "        x = self.sigmoid(self.l3(x))\n",
    "        return x\n",
    "\n",
    "# convert to PyTorch tensors\n",
    "X_train_tens = torch.tensor(X_train, dtype=torch.float32)\n",
    "y_train_tens = torch.tensor(y_train.reshape(-1, 1), dtype=torch.float32)\n",
    "X_test_tens  = torch.tensor(X_test, dtype=torch.float32)\n",
    "\n",
    "model = MLP(X_train_tens.shape[1])\n",
    "\n",
    "# Binary Cross Entropy seems to bbe the closest to the log loss objective function we used\n",
    "loss = nn.BCELoss()\n",
    "optimizer = optim.Adam(model.parameters(), lr=0.0001)\n",
    "\n",
    "epochs = 4000\n",
    "\n",
    "# keep track of gradient descent errors\n",
    "# to monitor convergence\n",
    "errors = []\n",
    "\n",
    "# gradient descent\n",
    "for epoch in range(epochs):\n",
    "    model.train()\n",
    "    y_pred = model(X_train_tens)\n",
    "\n",
    "    optimizer.zero_grad()\n",
    "    losses = loss(y_pred, y_train_tens)\n",
    "    errors.append(losses.item())\n",
    "    losses.backward()\n",
    "    optimizer.step()\n",
    "\n",
    "plt.plot(range(epochs), errors)\n",
    "plt.xlabel(\"Epoch\")\n",
    "plt.ylabel(\"Binary Cross Entropy Loss\")\n",
    "plt.title(\"Training Loss\")\n",
    "plt.show()\n"
   ]
  },
  {
   "cell_type": "markdown",
   "metadata": {},
   "source": [
    "## Evaluate Model"
   ]
  },
  {
   "cell_type": "code",
   "execution_count": 6,
   "metadata": {},
   "outputs": [
    {
     "name": "stdout",
     "output_type": "stream",
     "text": [
      "Layer 1 Weights: tensor([[ 0.0513,  0.0561,  0.0568,  ...,  0.0630, -0.0228,  0.1129],\n",
      "        [ 0.0888,  0.0918,  0.0836,  ...,  0.0314, -0.0272, -0.1022],\n",
      "        [ 0.0627,  0.0681,  0.0574,  ..., -0.0090, -0.0543, -0.0938],\n",
      "        ...,\n",
      "        [ 0.1334,  0.1311,  0.1390,  ...,  0.1348,  0.1207,  0.1139],\n",
      "        [ 0.0343,  0.0226,  0.0229,  ...,  0.0254,  0.0514,  0.1186],\n",
      "        [ 0.0662,  0.0611,  0.0555,  ..., -0.0211, -0.0602, -0.1167]])\n",
      "\n",
      "Layer 2 Weights: tensor([[-1.8321e-01,  2.1988e-01,  2.6006e-01,  7.6354e-02,  1.3115e-01,\n",
      "          2.6696e-01,  1.7569e-01, -1.7929e-01,  3.0072e-01, -3.3206e-01,\n",
      "         -2.7934e-01,  1.5933e-01,  2.8178e-01,  2.5730e-02,  2.7905e-01,\n",
      "          1.8399e-01,  3.2649e-01, -4.1188e-01, -4.3117e-01, -4.1011e-01,\n",
      "         -2.1094e-01,  8.0471e-02,  6.5444e-02,  2.3175e-01, -3.6926e-01,\n",
      "         -3.1028e-01,  1.6944e-01,  1.5672e-01, -3.0258e-01,  2.5240e-01,\n",
      "         -2.9053e-01,  1.6170e-01],\n",
      "        [ 1.8492e-01, -1.2266e-01, -7.5832e-02, -2.0612e-01, -3.1373e-01,\n",
      "         -3.3007e-01, -1.8868e-01,  4.5947e-01, -2.9480e-01,  3.6693e-01,\n",
      "          3.7104e-01, -1.1649e-01, -1.7459e-01,  1.5919e-01, -2.6523e-01,\n",
      "          3.5532e-01, -1.4589e-01,  2.3544e-01,  1.6908e-01,  2.8372e-01,\n",
      "          2.4432e-01, -3.4396e-01,  1.7053e-01, -2.2293e-01,  2.6575e-01,\n",
      "          2.0836e-01, -2.9650e-01,  1.3505e-01,  1.7922e-01,  1.6825e-01,\n",
      "          8.7999e-02, -3.5423e-01],\n",
      "        [-2.4381e-01,  9.6131e-02,  3.1975e-01,  2.8424e-01,  2.9658e-01,\n",
      "          2.4281e-01,  1.2863e-03, -4.4206e-01,  6.1744e-02, -3.7477e-01,\n",
      "         -2.8824e-01,  2.2931e-01,  2.9944e-01,  2.8352e-01, -1.9904e-02,\n",
      "          2.8289e-01,  1.4708e-01, -1.1079e-01, -3.0326e-01, -2.7489e-01,\n",
      "         -3.7174e-01,  2.4393e-01,  1.1934e-01,  9.5567e-02, -2.4699e-01,\n",
      "         -2.5660e-01,  6.7160e-02,  1.8081e-01, -1.6235e-01,  9.7769e-02,\n",
      "         -1.6888e-01,  7.4672e-02],\n",
      "        [ 2.5445e-01, -2.5256e-01, -4.2508e-01, -3.1874e-01, -3.3229e-01,\n",
      "         -4.5417e-01, -1.2999e-01,  5.1070e-01, -2.1504e-01,  2.4746e-01,\n",
      "          4.6196e-02, -1.2185e-01, -4.2110e-01,  2.6171e-01, -1.1322e-01,\n",
      "          1.5342e-01, -3.3416e-01,  7.8005e-02,  1.1697e-01,  2.8252e-01,\n",
      "          3.1317e-01, -2.0331e-01,  3.3820e-01, -3.4591e-01,  1.8705e-01,\n",
      "          3.7697e-01, -2.2065e-01,  2.9138e-01,  2.4827e-01,  3.3979e-01,\n",
      "          2.7617e-01, -3.1199e-01],\n",
      "        [ 3.8779e-01, -2.0209e-01, -3.0310e-01, -3.3651e-01, -3.6970e-01,\n",
      "         -3.7791e-01, -1.8795e-01,  2.3081e-01, -1.7062e-01,  2.2791e-01,\n",
      "          3.7548e-01, -1.0279e-01, -1.2297e-01, -1.0552e-01, -2.9826e-01,\n",
      "          1.8064e-01, -1.4214e-01,  2.8787e-01,  2.3057e-01,  1.4308e-01,\n",
      "          3.6712e-01, -5.5084e-02,  2.4736e-01, -2.7220e-01,  3.8705e-01,\n",
      "          1.6537e-01, -3.5758e-01,  3.2749e-01,  1.4881e-01,  2.7616e-01,\n",
      "          2.2405e-01, -2.0260e-01],\n",
      "        [ 3.5259e-01, -1.5486e-01, -1.7088e-01, -8.2971e-02, -1.7002e-01,\n",
      "         -3.0981e-01, -4.7872e-02,  3.1269e-01, -3.4996e-01,  4.1716e-01,\n",
      "          9.8398e-02, -2.0655e-01, -1.1654e-01, -1.9459e-01, -2.7063e-01,\n",
      "          2.6101e-01, -8.3972e-02,  9.3708e-02,  1.5550e-01,  2.2607e-01,\n",
      "          1.4626e-01, -1.3926e-01,  1.3575e-01, -4.1089e-02,  3.8998e-01,\n",
      "          2.5429e-01, -1.1829e-01,  2.4608e-01,  3.2692e-01,  1.1727e-01,\n",
      "          3.6461e-01, -8.5109e-02],\n",
      "        [-1.0327e-01,  2.1660e-01,  2.1064e-01,  1.3704e-01,  1.7407e-01,\n",
      "          2.5668e-01,  1.9132e-01, -5.0713e-01,  1.0111e-01, -3.7736e-01,\n",
      "         -4.2791e-01,  2.3753e-01,  7.9141e-02,  1.1689e-01,  3.7055e-01,\n",
      "          7.3355e-02,  3.3996e-01, -3.6822e-01, -4.0834e-01, -2.9712e-01,\n",
      "         -2.6809e-01,  1.3762e-01,  9.3482e-02,  1.4059e-01, -3.4614e-01,\n",
      "         -2.0090e-01,  1.2999e-01,  2.0149e-01, -3.6767e-01,  2.7273e-01,\n",
      "         -3.3785e-01,  5.3546e-02],\n",
      "        [-3.7294e-01,  1.2245e-01,  1.5687e-01,  3.0879e-01,  2.8398e-01,\n",
      "          1.0138e-01,  1.5883e-01, -2.9997e-01,  2.4170e-01, -3.3109e-01,\n",
      "         -1.1153e-01,  2.7396e-01,  2.5985e-01,  2.4188e-01,  8.2135e-02,\n",
      "          4.8656e-02,  3.4611e-02, -2.0640e-01, -2.8908e-01, -2.3953e-01,\n",
      "         -1.4471e-01,  3.1470e-01,  1.4494e-01,  3.1626e-01, -3.0657e-01,\n",
      "         -1.5079e-01, -9.1439e-04,  1.5182e-01, -3.0382e-01,  1.8257e-01,\n",
      "         -2.1737e-01,  2.9608e-01],\n",
      "        [ 1.0926e-01, -1.4011e-01,  1.6746e-01, -8.7589e-02, -1.1620e-01,\n",
      "          5.1697e-02, -1.1021e-01, -2.2770e-02,  1.2569e-01,  7.5634e-02,\n",
      "          5.1076e-02, -1.5092e-01,  1.3509e-02,  1.4902e-02, -2.7016e-02,\n",
      "         -6.4439e-02, -7.9681e-02, -7.2126e-02, -7.6956e-02,  3.8326e-02,\n",
      "          1.6701e-01, -6.9160e-02,  2.9639e-02, -1.7075e-01, -2.0129e-03,\n",
      "          1.2455e-01, -1.1091e-01, -1.6620e-01,  2.6280e-03, -8.1384e-02,\n",
      "          4.4296e-02, -1.4178e-01],\n",
      "        [ 8.2220e-02, -1.4071e-01,  9.1750e-02, -6.2189e-02, -7.5335e-02,\n",
      "          5.4408e-02, -7.4978e-02, -5.3093e-02,  1.8362e-02,  7.2580e-02,\n",
      "         -8.2751e-02, -6.4770e-02, -2.7018e-02, -1.5441e-01,  6.0626e-02,\n",
      "          1.6890e-02, -4.8539e-02, -1.5108e-01, -9.4076e-02,  1.1054e-02,\n",
      "         -2.8964e-02, -4.3474e-02,  7.3681e-02, -1.5111e-01,  7.9094e-02,\n",
      "         -1.6165e-01,  8.2734e-02, -1.0190e-04,  8.4825e-02, -3.8139e-02,\n",
      "          1.8654e-03, -8.3329e-02],\n",
      "        [ 2.9431e-01, -1.1353e-01, -3.4507e-01, -3.0131e-01, -2.6947e-01,\n",
      "         -3.4279e-01, -3.3814e-01,  2.3965e-01, -2.7119e-01,  1.3783e-01,\n",
      "          3.3741e-01, -1.8628e-01, -5.8852e-02, -1.2908e-01, -6.0659e-02,\n",
      "          3.2559e-01, -2.2282e-01,  1.2984e-01,  1.0132e-01,  1.1365e-01,\n",
      "          1.8065e-01, -3.8751e-01,  3.3693e-01, -3.5024e-01,  1.3544e-01,\n",
      "          2.4422e-01, -2.7476e-01,  3.2639e-01,  2.7845e-01,  2.8497e-01,\n",
      "          1.6413e-01, -2.0772e-01],\n",
      "        [-3.0020e-01,  3.0653e-01,  2.6355e-01,  2.6172e-01, -7.0332e-03,\n",
      "          9.9221e-02,  2.9004e-01, -3.5982e-01,  1.0778e-01, -8.1315e-02,\n",
      "         -2.6815e-01,  1.1498e-01,  2.8389e-01,  2.4226e-01,  2.7957e-01,\n",
      "          2.3130e-01,  1.7774e-01, -2.8592e-01, -3.2138e-01, -3.4508e-01,\n",
      "         -1.5756e-01,  4.3638e-03,  2.2889e-01,  2.4301e-02, -1.5872e-01,\n",
      "         -2.9096e-01,  2.9487e-01,  2.1149e-01, -3.6418e-01,  1.9542e-01,\n",
      "         -2.6526e-01,  2.2616e-01],\n",
      "        [-4.0477e-01,  1.2438e-01,  2.1723e-01,  1.9409e-01,  2.1168e-01,\n",
      "          2.5500e-01,  1.3841e-01, -3.4009e-01,  3.4520e-01, -2.0704e-01,\n",
      "         -2.2541e-01,  3.2022e-01,  3.1286e-01,  2.5626e-01,  2.0798e-01,\n",
      "          2.1603e-01,  2.4324e-01, -2.7325e-01, -3.8587e-01, -2.3146e-01,\n",
      "         -2.9897e-01,  5.1579e-02,  3.2210e-01,  1.3613e-01, -1.8392e-01,\n",
      "         -2.1982e-01,  5.7205e-02,  1.7592e-01, -4.2382e-01,  1.5251e-01,\n",
      "         -2.6418e-01,  3.4755e-01],\n",
      "        [-1.6257e-01,  9.1137e-02,  7.9177e-02,  8.9826e-02,  2.8607e-01,\n",
      "          2.0695e-01,  2.3530e-01, -5.4384e-01,  2.2280e-01, -8.7923e-02,\n",
      "         -3.9249e-01, -1.7202e-02,  1.7802e-01,  2.1719e-01,  7.0934e-02,\n",
      "          2.6249e-01,  4.2451e-02, -3.2261e-01, -3.1787e-01, -2.4747e-01,\n",
      "         -1.5788e-01,  3.2129e-01, -3.7808e-02,  8.8174e-02, -2.5331e-01,\n",
      "         -2.8317e-01,  3.2404e-01,  1.8841e-01, -3.8354e-01,  9.9728e-02,\n",
      "         -2.4945e-01,  2.1011e-01],\n",
      "        [ 1.5865e-01, -2.2524e-01, -2.1407e-01, -2.6637e-01, -1.7637e-01,\n",
      "         -2.0957e-01, -8.0628e-02,  2.5384e-01, -2.7180e-01,  2.1482e-01,\n",
      "          9.8361e-02, -3.2700e-01, -1.3940e-01,  1.1821e-02, -2.6737e-01,\n",
      "          2.9256e-01, -5.8069e-02,  3.6692e-01,  3.6530e-01,  3.1429e-01,\n",
      "          1.3532e-01, -1.8242e-01,  2.4192e-01, -3.2798e-01,  2.0739e-01,\n",
      "          1.9687e-01, -2.0329e-01,  2.7216e-01,  1.7864e-01,  1.0913e-01,\n",
      "          3.5161e-01, -3.2381e-01],\n",
      "        [ 3.2799e-01, -1.1226e-01, -1.0190e-01, -2.2762e-01, -1.6514e-01,\n",
      "         -1.8123e-01, -1.6004e-01,  1.5726e-01, -4.3183e-02,  1.9610e-01,\n",
      "          9.4687e-02, -3.3357e-01, -1.4106e-01,  1.2045e-01, -3.5792e-01,\n",
      "          1.0322e-01, -3.0440e-01,  2.8521e-01,  1.5729e-01,  2.1683e-01,\n",
      "          3.7130e-01, -3.5276e-01,  3.4876e-01, -3.6223e-01,  3.1291e-01,\n",
      "          3.8256e-01, -3.3371e-01,  1.9412e-01,  1.2693e-01,  2.0777e-01,\n",
      "          1.5509e-01, -3.0560e-01]])\n",
      "\n",
      "Layer 3 Weights: tensor([[ 0.3386, -0.3634,  0.3081, -0.3441, -0.3732, -0.3220,  0.2138,  0.3218,\n",
      "          0.1682,  0.0440, -0.4085,  0.3459,  0.2115,  0.3462, -0.2565, -0.3560]])\n"
     ]
    }
   ],
   "source": [
    "print(\"Layer 1 Weights:\", model.l1.weight.data)\n",
    "\n",
    "print(\"\\nLayer 2 Weights:\", model.l2.weight.data)\n",
    "\n",
    "print(\"\\nLayer 3 Weights:\", model.l3.weight.data)"
   ]
  },
  {
   "cell_type": "code",
   "execution_count": 3,
   "metadata": {},
   "outputs": [
    {
     "name": "stdout",
     "output_type": "stream",
     "text": [
      "Accuracy: 0.707\n",
      "Precision: 0.786\n",
      "Recall: 0.829\n",
      "F1 Score: 0.807\n"
     ]
    }
   ],
   "source": [
    "# predict using the test data\n",
    "model.eval()\n",
    "with torch.no_grad():\n",
    "    y_test_pred = model(X_test_tens)\n",
    "    y_test_pred_class = (y_test_pred > 0.5).float()\n",
    "\n",
    "    accuracy = accuracy_score(y_test, y_test_pred_class.numpy())\n",
    "    print(f'Accuracy: {accuracy:.3f}')\n",
    "\n",
    "    precision = precision_score(y_test, y_test_pred_class.numpy())\n",
    "    print(f'Precision: {precision:.3f}')\n",
    "\n",
    "    recall = recall_score(y_test, y_test_pred_class.numpy())\n",
    "    print(f'Recall: {recall:.3f}')\n",
    "\n",
    "    f1 = f1_score(y_test, y_test_pred_class.numpy())\n",
    "    print(f'F1 Score: {f1:.3f}')\n",
    "\n"
   ]
  },
  {
   "cell_type": "code",
   "execution_count": 4,
   "metadata": {},
   "outputs": [
    {
     "data": {
      "image/png": "[encoded data removed]",
      "text/plain": [
       "<Figure size 432x288 with 1 Axes>"
      ]
     },
     "metadata": {
      "needs_background": "light"
     },
     "output_type": "display_data"
    }
   ],
   "source": [
    "scores = [precision, recall, f1]\n",
    "labels = ['Precision', 'Recall', 'F1 Score']\n",
    "bars = plt.bar(labels, scores)\n",
    "plt.ylim([0, 1])\n",
    "plt.ylabel('Score')\n",
    "plt.title('Precision, Recall, and F1 Score')\n",
    "\n",
    "for i in range(len(labels)):\n",
    "    plt.text(i, scores[i], str(round(scores[i], 3)), ha='center', va='bottom')\n",
    "\n",
    "plt.show()"
   ]
  }
 ],
 "metadata": {
  "kernelspec": {
   "display_name": "Python 3",
   "language": "python",
   "name": "python3"
  },
  "language_info": {
   "codemirror_mode": {
    "name": "ipython",
    "version": 3
   },
   "file_extension": ".py",
   "mimetype": "text/x-python",
   "name": "python",
   "nbconvert_exporter": "python",
   "pygments_lexer": "ipython3",
   "version": "3.9.7"
  },
  "orig_nbformat": 4
 },
 "nbformat": 4,
 "nbformat_minor": 2
}
