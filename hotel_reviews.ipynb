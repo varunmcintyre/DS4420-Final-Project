{
 "cells": [
  {
   "cell_type": "code",
   "execution_count": 3,
   "metadata": {},
   "outputs": [],
   "source": [
    "import pandas as pd\n",
    "import numpy as np\n",
    "import torch\n",
    "import torch.nn as nn\n",
    "import torch.optim as optim\n",
    "from sklearn.preprocessing import MinMaxScaler\n",
    "from sklearn.model_selection import train_test_split\n",
    "from sklearn.metrics import accuracy_score\n",
    "import matplotlib.pyplot as plt\n",
    "\n",
    "# load data\n",
    "data = pd.read_csv('hotel_reviews.csv')\n",
    "\n",
    "# drop unnecessary columns\n",
    "data = data.drop(columns=['address', 'country', 'name', 'postalCode', 'reviews_dateAdded',\n",
    "             'reviews_id', 'reviews_text', 'reviews_title', 'reviews_userCity', 'reviews_username',\n",
    "             'reviews_userProvince', 'reviews_doRecommend'])\n",
    "\n",
    "# filter city/category to top 10 and other for rest\n",
    "top_cities = data['city'].value_counts().nlargest(10).index\n",
    "data['city'] = data['city'].apply(lambda x: x if x in top_cities else 'Other')\n",
    "\n",
    "top_categories = data['categories'].value_counts().nlargest(10).index\n",
    "data['categories'] = data['categories'].apply(lambda x: x if x in top_categories else 'Other')\n",
    "\n",
    "# get date features\n",
    "data['reviews_date'] = pd.to_datetime(data['reviews_date'], errors='coerce')\n",
    "data['review_year'] = data['reviews_date'].dt.year\n",
    "data['review_month'] = data['reviews_date'].dt.month\n",
    "data = data.drop(columns=['reviews_date'])\n",
    "\n",
    "# One-hot encoding the categorical features\n",
    "data = pd.get_dummies(data, drop_first=True, dtype=int)\n",
    "\n",
    "# drop any rows with NaNs\n",
    "data = data.dropna()\n",
    "\n",
    "X = data.drop(columns=['reviews_rating']).values\n",
    "\n",
    "# make reviews rating into 1 if the star rating is 4 or 5 \n",
    "# make it 0 if it is below 4, good and bad ratings\n",
    "y = (data['reviews_rating'] >= 4).astype(int).values\n",
    "\n",
    "# min-max scaling\n",
    "scaler = MinMaxScaler()\n",
    "X_scale = scaler.fit_transform(X)\n",
    "\n",
    "# add intercept/bias column to X\n",
    "Phi = np.hstack((np.ones((X_scale.shape[0], 1)), X_scale))\n",
    "\n",
    "# Separating data into training and test sets\n",
    "[X_train, X_test, y_train, y_test] = train_test_split(Phi, y, test_size = .3)"
   ]
  },
  {
   "cell_type": "code",
   "execution_count": 7,
   "metadata": {},
   "outputs": [
    {
     "data": {
      "image/png": "[encoded data removed]",
      "text/plain": [
       "<Figure size 432x288 with 1 Axes>"
      ]
     },
     "metadata": {
      "needs_background": "light"
     },
     "output_type": "display_data"
    },
    {
     "name": "stdout",
     "output_type": "stream",
     "text": [
      "Accuracy: 0.712\n"
     ]
    }
   ],
   "source": [
    "# convert to PyTorch tensors\n",
    "X_train_tensor = torch.tensor(X_train, dtype=torch.float32)\n",
    "y_train_tensor = torch.tensor(y_train.reshape(-1, 1), dtype=torch.float32)\n",
    "X_test_tensor  = torch.tensor(X_test, dtype=torch.float32)\n",
    "y_test_tensor  = torch.tensor(y_test.reshape(-1, 1), dtype=torch.float32)\n",
    "\n",
    "class NN(nn.Module):\n",
    "    def __init__(self, input_dim):\n",
    "        super().__init__()\n",
    "        self.fc1 = nn.Linear(input_dim, 16)\n",
    "        self.fc2 = nn.Linear(16, 8)\n",
    "        self.output = nn.Linear(8, 1)\n",
    "        self.relu = nn.ReLU()\n",
    "        self.sigmoid = nn.Sigmoid()\n",
    "\n",
    "    def forward(self, x):\n",
    "        x = self.relu(self.fc1(x))\n",
    "        x = self.relu(self.fc2(x))\n",
    "        x = self.sigmoid(self.output(x))\n",
    "        return x\n",
    "\n",
    "model = NN(X_train_tensor.shape[1])\n",
    "\n",
    "# Binary Cross Entropy seems to bbe the same as the log loss objective function we use\n",
    "criterion = nn.BCELoss()\n",
    "optimizer = optim.Adam(model.parameters(), lr=0.001)\n",
    "\n",
    "epochs = 10000\n",
    "\n",
    "# keep track of gradient descent errors\n",
    "# to monitor convergence\n",
    "errors = []\n",
    "\n",
    "# gradient descent\n",
    "for epoch in range(epochs):\n",
    "    model.train()\n",
    "    y_pred = model(X_train_tensor)\n",
    "    loss = criterion(y_pred, y_train_tensor)\n",
    "    errors.append(loss.item())\n",
    "\n",
    "    optimizer.zero_grad()\n",
    "    loss.backward()\n",
    "    optimizer.step()\n",
    "\n",
    "plt.plot(range(epochs), errors)\n",
    "plt.xlabel(\"Epoch\")\n",
    "plt.ylabel(\"Binary Cross Entropy Loss\")\n",
    "plt.title(\"Training Loss\")\n",
    "plt.show()\n"
   ]
  },
  {
   "cell_type": "code",
   "execution_count": null,
   "metadata": {},
   "outputs": [],
   "source": [
    "# predict using the test data  and evaluate the accuracy of the algorithm\n",
    "model.eval()\n",
    "with torch.no_grad():\n",
    "    y_test_pred = model(X_test_tensor)\n",
    "    y_test_pred_class = (y_test_pred > 0.5).float()\n",
    "\n",
    "    accuracy = accuracy_score(y_test_tensor.numpy(), y_test_pred_class.numpy())\n",
    "    print(f'Accuracy: {accuracy:.3f}')"
   ]
  },
  {
   "cell_type": "markdown",
   "metadata": {},
   "source": [
    "add f1 and f1 plots"
   ]
  }
 ],
 "metadata": {
  "kernelspec": {
   "display_name": "Python 3",
   "language": "python",
   "name": "python3"
  },
  "language_info": {
   "codemirror_mode": {
    "name": "ipython",
    "version": 3
   },
   "file_extension": ".py",
   "mimetype": "text/x-python",
   "name": "python",
   "nbconvert_exporter": "python",
   "pygments_lexer": "ipython3",
   "version": "3.9.7"
  },
  "orig_nbformat": 4
 },
 "nbformat": 4,
 "nbformat_minor": 2
}
