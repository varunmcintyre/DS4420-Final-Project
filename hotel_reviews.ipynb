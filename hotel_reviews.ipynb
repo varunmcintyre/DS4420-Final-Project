{
 "cells": [
  {
   "cell_type": "markdown",
   "metadata": {},
   "source": [
    "# MLP with PyTorch"
   ]
  },
  {
   "cell_type": "markdown",
   "metadata": {},
   "source": [
    "## Prep the data"
   ]
  },
  {
   "cell_type": "code",
   "execution_count": 1,
   "metadata": {},
   "outputs": [
    {
     "name": "stderr",
     "output_type": "stream",
     "text": [
      "/Users/aidenshymanski/opt/anaconda3/lib/python3.9/site-packages/pandas/core/computation/expressions.py:21: UserWarning: Pandas requires version '2.8.4' or newer of 'numexpr' (version '2.7.3' currently installed).\n",
      "  from pandas.core.computation.check import NUMEXPR_INSTALLED\n",
      "/Users/aidenshymanski/opt/anaconda3/lib/python3.9/site-packages/pandas/core/arrays/masked.py:60: UserWarning: Pandas requires version '1.3.6' or newer of 'bottleneck' (version '1.3.2' currently installed).\n",
      "  from pandas.core import (\n"
     ]
    }
   ],
   "source": [
    "import pandas as pd\n",
    "import numpy as np\n",
    "import torch\n",
    "import torch.nn as nn\n",
    "import torch.optim as optim\n",
    "from sklearn.preprocessing import MinMaxScaler\n",
    "from sklearn.model_selection import train_test_split\n",
    "from sklearn.metrics import accuracy_score, precision_score, recall_score, f1_score\n",
    "import matplotlib.pyplot as plt\n",
    "import warnings\n",
    "warnings.filterwarnings('ignore')\n",
    "\n",
    "# load data\n",
    "data = pd.read_csv('Datafiniti_Hotel_Reviews.csv')\n",
    "\n",
    "# drop unnecessary columns\n",
    "data = data.drop(columns=['address', 'country', 'name', 'postalCode', 'dateAdded',\n",
    "             'id', 'reviews.text', 'reviews.title', 'reviews.userCity', 'reviews.username',\n",
    "             'reviews.userProvince'])\n",
    "\n",
    "# filter city and category to top 10 and other for rest\n",
    "top_cit = data['city'].value_counts().nlargest(10).index\n",
    "data['city'] = data['city'].apply(lambda x: x if x in top_cit else 'Other')\n",
    "\n",
    "top_cat = data['categories'].value_counts().nlargest(10).index\n",
    "data['categories'] = data['categories'].apply(lambda x: x if x in top_cat else 'Other')\n",
    "\n",
    "# get date features\n",
    "data['reviews.date'] = pd.to_datetime(data['reviews.date'], errors='coerce')\n",
    "data['review.year'] = data['reviews.date'].dt.year\n",
    "data['review.month'] = data['reviews.date'].dt.month\n",
    "data = data.drop(columns=['reviews.date'])\n",
    "\n",
    "# One-hot encoding the categorical features\n",
    "data = pd.get_dummies(data, drop_first=True, dtype=int)\n",
    "\n",
    "# drop any rows with NaNs\n",
    "data = data.dropna()\n",
    "\n",
    "X = data.drop(columns=['reviews.rating']).values\n",
    "\n",
    "# make reviews rating into 1 if the star rating is 4 or 5 \n",
    "# make it 0 if it is below 4, good and bad ratings\n",
    "y = (data['reviews.rating'] >= 4).astype(int).values\n",
    "\n",
    "# min-max scaling\n",
    "scaler = MinMaxScaler()\n",
    "X_scale = scaler.fit_transform(X)\n",
    "\n",
    "# add intercept/bias column to X\n",
    "Phi = np.hstack((np.ones((X_scale.shape[0], 1)), X_scale))\n",
    "\n",
    "# Separating data into training and test sets\n",
    "[X_train, X_test, y_train, y_test] = train_test_split(Phi, y, test_size = .3)"
   ]
  },
  {
   "cell_type": "markdown",
   "metadata": {},
   "source": [
    "## Train Model and Record Loss"
   ]
  },
  {
   "cell_type": "code",
   "execution_count": 2,
   "metadata": {},
   "outputs": [
    {
     "data": {
      "image/png": "[encoded data removed]",
      "text/plain": [
       "<Figure size 432x288 with 1 Axes>"
      ]
     },
     "metadata": {
      "needs_background": "light"
     },
     "output_type": "display_data"
    }
   ],
   "source": [
    "class MLP(nn.Module):\n",
    "    def __init__(self, input_dim):\n",
    "        super().__init__()\n",
    "        self.l1 = nn.Linear(input_dim, 32)\n",
    "        self.relu = nn.ReLU()\n",
    "        self.l2 = nn.Linear(32, 16)\n",
    "        self.l3 = nn.Linear(16, 1)\n",
    "        self.sigmoid = nn.Sigmoid()\n",
    "\n",
    "    def forward(self, x):\n",
    "        x = self.relu(self.l1(x))\n",
    "        x = self.relu(self.l2(x))\n",
    "        x = self.sigmoid(self.l3(x))\n",
    "        return x\n",
    "\n",
    "# convert to PyTorch tensors\n",
    "X_train_tens = torch.tensor(X_train, dtype=torch.float32)\n",
    "y_train_tens = torch.tensor(y_train.reshape(-1, 1), dtype=torch.float32)\n",
    "X_test_tens  = torch.tensor(X_test, dtype=torch.float32)\n",
    "\n",
    "model = MLP(X_train_tens.shape[1])\n",
    "\n",
    "# Binary Cross Entropy seems to bbe the closest to the log loss objective function we used\n",
    "loss = nn.BCELoss()\n",
    "optimizer = optim.Adam(model.parameters(), lr=0.0001)\n",
    "\n",
    "epochs = 4000\n",
    "\n",
    "# keep track of gradient descent errors\n",
    "# to monitor convergence\n",
    "errors = []\n",
    "\n",
    "# gradient descent\n",
    "for epoch in range(epochs):\n",
    "    model.train()\n",
    "    y_pred = model(X_train_tens)\n",
    "\n",
    "    optimizer.zero_grad()\n",
    "    losses = loss(y_pred, y_train_tens)\n",
    "    errors.append(losses.item())\n",
    "    losses.backward()\n",
    "    optimizer.step()\n",
    "\n",
    "plt.plot(range(epochs), errors)\n",
    "plt.xlabel(\"Epoch\")\n",
    "plt.ylabel(\"Binary Cross Entropy Loss\")\n",
    "plt.title(\"Training Loss\")\n",
    "plt.show()\n"
   ]
  },
  {
   "cell_type": "markdown",
   "metadata": {},
   "source": [
    "## Evaluate Model"
   ]
  },
  {
   "cell_type": "code",
   "execution_count": 3,
   "metadata": {},
   "outputs": [
    {
     "name": "stdout",
     "output_type": "stream",
     "text": [
      "Accuracy: 0.707\n",
      "Precision: 0.786\n",
      "Recall: 0.829\n",
      "F1 Score: 0.807\n"
     ]
    }
   ],
   "source": [
    "# predict using the test data\n",
    "model.eval()\n",
    "with torch.no_grad():\n",
    "    y_test_pred = model(X_test_tens)\n",
    "    y_test_pred_class = (y_test_pred > 0.5).float()\n",
    "\n",
    "    accuracy = accuracy_score(y_test, y_test_pred_class.numpy())\n",
    "    print(f'Accuracy: {accuracy:.3f}')\n",
    "\n",
    "    precision = precision_score(y_test, y_test_pred_class.numpy())\n",
    "    print(f'Precision: {precision:.3f}')\n",
    "\n",
    "    recall = recall_score(y_test, y_test_pred_class.numpy())\n",
    "    print(f'Recall: {recall:.3f}')\n",
    "\n",
    "    f1 = f1_score(y_test, y_test_pred_class.numpy())\n",
    "    print(f'F1 Score: {f1:.3f}')\n",
    "\n"
   ]
  },
  {
   "cell_type": "code",
   "execution_count": 4,
   "metadata": {},
   "outputs": [
    {
     "data": {
      "image/png": "[encoded data removed]",
      "text/plain": [
       "<Figure size 432x288 with 1 Axes>"
      ]
     },
     "metadata": {
      "needs_background": "light"
     },
     "output_type": "display_data"
    }
   ],
   "source": [
    "scores = [precision, recall, f1]\n",
    "labels = ['Precision', 'Recall', 'F1 Score']\n",
    "bars = plt.bar(labels, scores)\n",
    "plt.ylim([0, 1])\n",
    "plt.ylabel('Score')\n",
    "plt.title('Precision, Recall, and F1 Score')\n",
    "\n",
    "for i in range(len(labels)):\n",
    "    plt.text(i, scores[i], str(round(scores[i], 3)), ha='center', va='bottom')\n",
    "\n",
    "plt.show()"
   ]
  }
 ],
 "metadata": {
  "kernelspec": {
   "display_name": "Python 3",
   "language": "python",
   "name": "python3"
  },
  "language_info": {
   "codemirror_mode": {
    "name": "ipython",
    "version": 3
   },
   "file_extension": ".py",
   "mimetype": "text/x-python",
   "name": "python",
   "nbconvert_exporter": "python",
   "pygments_lexer": "ipython3",
   "version": "3.9.7"
  },
  "orig_nbformat": 4
 },
 "nbformat": 4,
 "nbformat_minor": 2
}
